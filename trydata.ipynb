{
 "cells": [
  {
   "cell_type": "code",
   "execution_count": null,
   "id": "3f1bd935-4656-46cf-b48b-93811d7c032c",
   "metadata": {},
   "outputs": [],
   "source": [
    "import pandas as pd\n"
   ]
  },
  {
   "cell_type": "code",
   "execution_count": null,
   "id": "6cce5818-d4e8-41c3-8010-210cb163b47e",
   "metadata": {
    "scrolled": true
   },
   "outputs": [],
   "source": [
    "df = pd.read_csv('FINE GRAINED SENTIMENTS.csv')\n",
    "df"
   ]
  },
  {
   "cell_type": "code",
   "execution_count": null,
   "id": "1f1e373a-5921-4b60-a361-9f20eb7ea666",
   "metadata": {},
   "outputs": [],
   "source": [
    "df.head()"
   ]
  },
  {
   "cell_type": "code",
   "execution_count": null,
   "id": "773f5140-f5d3-40e1-b63c-bcc806e6e119",
   "metadata": {
    "scrolled": true
   },
   "outputs": [],
   "source": [
    "df.tail()"
   ]
  },
  {
   "cell_type": "code",
   "execution_count": null,
   "id": "a3eb1209-3038-413a-9481-88b93a400fb9",
   "metadata": {},
   "outputs": [],
   "source": [
    "df.shape"
   ]
  },
  {
   "cell_type": "code",
   "execution_count": null,
   "id": "b3b84bc5-414c-4cba-b6bc-0801ee5f7c6d",
   "metadata": {
    "scrolled": true
   },
   "outputs": [],
   "source": [
    "df.size"
   ]
  },
  {
   "cell_type": "code",
   "execution_count": null,
   "id": "8f794e28-2ac1-4eab-9fe1-83179c28e554",
   "metadata": {},
   "outputs": [],
   "source": [
    "df.columns"
   ]
  },
  {
   "cell_type": "code",
   "execution_count": null,
   "id": "77b0232a-6956-4586-8cd5-becaaec57c2b",
   "metadata": {},
   "outputs": [],
   "source": [
    "df.duplicated().sum()"
   ]
  },
  {
   "cell_type": "code",
   "execution_count": null,
   "id": "4bf38456-e57e-4e84-8af5-d0f2d4c30bd8",
   "metadata": {},
   "outputs": [],
   "source": [
    "df.nunique()"
   ]
  },
  {
   "cell_type": "code",
   "execution_count": null,
   "id": "9363fcee-27bb-4651-a528-917b74454a61",
   "metadata": {},
   "outputs": [],
   "source": [
    "df.info()"
   ]
  },
  {
   "cell_type": "code",
   "execution_count": null,
   "id": "6d6c5472-bb79-4755-91bb-3b8e3758f608",
   "metadata": {},
   "outputs": [],
   "source": [
    "df.describe()"
   ]
  },
  {
   "cell_type": "code",
   "execution_count": null,
   "id": "b88b10e4-a8d5-4fd3-8ca2-582f0ebaeab8",
   "metadata": {},
   "outputs": [],
   "source": [
    "df = df.drop(columns='KEYWORDS')"
   ]
  },
  {
   "cell_type": "code",
   "execution_count": null,
   "id": "207e8d31-c146-4ae9-9497-7c5edcf4670a",
   "metadata": {},
   "outputs": [],
   "source": [
    "df = df.drop(columns='REASONS')"
   ]
  },
  {
   "cell_type": "code",
   "execution_count": null,
   "id": "c3b1ef6c-6234-4dbc-9b73-e9d6bb70aa5b",
   "metadata": {},
   "outputs": [],
   "source": [
    "df.head()"
   ]
  },
  {
   "cell_type": "code",
   "execution_count": null,
   "id": "75cf8ddc-41fc-4045-877e-31bd17da41a1",
   "metadata": {},
   "outputs": [],
   "source": [
    "df = df.map(lambda x: x.lower() if isinstance(x,str) else x)"
   ]
  },
  {
   "cell_type": "code",
   "execution_count": null,
   "id": "20459841-52d0-4ddf-8960-30592bfb2426",
   "metadata": {
    "scrolled": true
   },
   "outputs": [],
   "source": [
    "df.head()"
   ]
  },
  {
   "cell_type": "code",
   "execution_count": null,
   "id": "93792f54-2168-453e-bf3a-2e84700f0f10",
   "metadata": {},
   "outputs": [],
   "source": [
    "import re\n",
    "df = df.map(lambda x: re.sub(r\"[^a-zA-Z0-9\\s.,@]\",'',str(x)))"
   ]
  },
  {
   "cell_type": "code",
   "execution_count": null,
   "id": "b653de4e-2fc8-4554-82d4-fba5e2ae9fd1",
   "metadata": {},
   "outputs": [],
   "source": [
    "df.head(10)"
   ]
  },
  {
   "cell_type": "code",
   "execution_count": null,
   "id": "c6a7aef6-32bf-4c94-b4e6-2bc04ad40d40",
   "metadata": {
    "scrolled": true
   },
   "outputs": [],
   "source": [
    "df = df.drop_duplicates()\n",
    "df.head()"
   ]
  },
  {
   "cell_type": "code",
   "execution_count": null,
   "id": "f6281431-5832-411b-8634-3c71eeb94838",
   "metadata": {},
   "outputs": [],
   "source": [
    "df.duplicated().sum()"
   ]
  },
  {
   "cell_type": "code",
   "execution_count": null,
   "id": "56d12394-9d34-4fdc-aa08-1331581b084b",
   "metadata": {},
   "outputs": [],
   "source": [
    "df.duplicated(subset='TWEETS').sum()"
   ]
  },
  {
   "cell_type": "code",
   "execution_count": null,
   "id": "e6bc569f-2f5f-4572-816a-fadb87b3f45b",
   "metadata": {},
   "outputs": [],
   "source": [
    "df = df.drop_duplicates(subset='TWEETS')"
   ]
  },
  {
   "cell_type": "code",
   "execution_count": null,
   "id": "3a0101d6-ddb2-46a0-bfc0-91404e8b31bb",
   "metadata": {},
   "outputs": [],
   "source": [
    "df.duplicated(subset='TWEETS').sum()"
   ]
  },
  {
   "cell_type": "code",
   "execution_count": null,
   "id": "b4daf13a-17eb-4497-b2b5-9486e3a070a3",
   "metadata": {},
   "outputs": [],
   "source": []
  },
  {
   "cell_type": "code",
   "execution_count": null,
   "id": "2106145e-47e9-420e-a3a6-a2a5cce9305b",
   "metadata": {},
   "outputs": [],
   "source": []
  }
 ],
 "metadata": {
  "kernelspec": {
   "display_name": "Python [conda env:base] *",
   "language": "python",
   "name": "conda-base-py"
  },
  "language_info": {
   "codemirror_mode": {
    "name": "ipython",
    "version": 3
   },
   "file_extension": ".py",
   "mimetype": "text/x-python",
   "name": "python",
   "nbconvert_exporter": "python",
   "pygments_lexer": "ipython3",
   "version": "3.11.7"
  }
 },
 "nbformat": 4,
 "nbformat_minor": 5
}
